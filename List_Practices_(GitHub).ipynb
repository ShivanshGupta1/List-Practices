{
  "nbformat": 4,
  "nbformat_minor": 0,
  "metadata": {
    "colab": {
      "name": "List Practices (GitHub).ipynb",
      "provenance": [],
      "authorship_tag": "ABX9TyPsQBW0M3z/Er5q1qjk3FKp",
      "include_colab_link": true
    },
    "kernelspec": {
      "name": "python3",
      "display_name": "Python 3"
    }
  },
  "cells": [
    {
      "cell_type": "markdown",
      "metadata": {
        "id": "view-in-github",
        "colab_type": "text"
      },
      "source": [
        "<a href=\"https://colab.research.google.com/github/ShivanshGupta1/List-Practices/blob/main/List_Practices_(GitHub).ipynb\" target=\"_parent\"><img src=\"https://colab.research.google.com/assets/colab-badge.svg\" alt=\"Open In Colab\"/></a>"
      ]
    },
    {
      "cell_type": "code",
      "metadata": {
        "id": "QYYV4ZVZmG5X"
      },
      "source": [
        "Feet = int(input(\"Enter your number\"))\n",
        "L = [1*Feet, Feet*12, Feet/3, Feet/5280, Feet*305, Feet*30.48, Feet/3.281, Feet/3281 ]\n",
        "Unit = int(input(\"Your unit: \"))\n",
        "print(L[Unit])"
      ],
      "execution_count": null,
      "outputs": []
    },
    {
      "cell_type": "code",
      "metadata": {
        "id": "cKOCjmPqm4D1"
      },
      "source": [
        "from random import*\n",
        "N = [[randint(1,9) for i in range(4)],[randint(1,9) for i in range(4)],[randint(1,9) for i in range(4)],[randint(1,9) for i in range(4)]]\n",
        "print(N)"
      ],
      "execution_count": null,
      "outputs": []
    },
    {
      "cell_type": "code",
      "metadata": {
        "id": "LGX62_iGm5Qm"
      },
      "source": [
        "List = [[\"Thomas\",\"12\",\"25\"],[\"Jack\",\"23\",\"45\"]]\n",
        "print(\"Press 1 to add the data\")\n",
        "print(\"Press 2 to search the data\")\n",
        "print(\"Press 3 to delete the data\")\n",
        "inp = input(\"Any: \")\n",
        "inp = int(inp)\n",
        "if inp == 1:\n",
        "  input2 = input(\"Please type your details, eg. Shivansh,12,25\")\n",
        "  List.append(input2.split(','))\n",
        "  print(List)\n",
        "elif inp==2:\n",
        "  input3 = input(\"Name: \")\n",
        "  for i in range(len(List)):\n",
        "    for j in range(len(List[i])):\n",
        "      if input3 in List[i][j]:\n",
        "        print(List[i]) \n",
        "elif inp==3:\n",
        "  input4=input(\"Roll no. \")\n",
        "  for i in range(len(List)):\n",
        "    for j in range(len(List[i])):\n",
        "      if input4 in List[i][j]:\n",
        "        List.pop(i)\n",
        "        print(List)"
      ],
      "execution_count": null,
      "outputs": []
    }
  ]
}